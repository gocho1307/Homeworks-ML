{
 "cells": [
  {
   "cell_type": "markdown",
   "metadata": {},
   "source": [
    "# Homework I\n",
    "\n",
    "Gonçalo Bárias (ist1103124) & Raquel Braunschweig (ist1102624)"
   ]
  },
  {
   "cell_type": "markdown",
   "metadata": {},
   "source": [
    "## I. Pen and Paper [11v]\n",
    "\n",
    "**Consider the partially learnt decision tree from the dataset 𝐷. 𝐷 is described by four input variables –\n",
    "one numeric with values in [0,1] and 3 categorical – and a target variable with three classes.**"
   ]
  },
  {
   "cell_type": "markdown",
   "metadata": {},
   "source": [
    "### 1) [5v] \n",
    "\n",
    "**Complete the given decision tree using Information gain with Shannon entropy (log2). Consider that:**\n",
    "\n",
    "**i) A minimum of 4 observations is required to split an internal node;**\n",
    "\n",
    "**ii) Decisions by ascending alphabetic order should be placed in case of ties.**"
   ]
  },
  {
   "cell_type": "markdown",
   "metadata": {},
   "source": [
    "### 2) [2.5v] \n",
    "\n",
    "**Draw the training confusion matrix for the learnt decision tree.**"
   ]
  },
  {
   "cell_type": "markdown",
   "metadata": {},
   "source": [
    "<table>\n",
    "  <tr>\n",
    "    <td colspan=\"2\" rowspan=\"2\" style=\"border-top: none; border-left: none;\"></td>\n",
    "    <th colspan=\"2\">True</th>\n",
    "    <td rowspan=\"2\" style=\"border-top: none; border-right: none;\"></td>\n",
    "  </tr>\n",
    "  <tr>\n",
    "    <th>Positive</th>\n",
    "    <th>Negative</th>\n",
    "  </tr>\n",
    "  <tr>\n",
    "    <th rowspan=\"2\">Predicted</th>\n",
    "    <th>Positive</th>\n",
    "    <td>A</td>\n",
    "    <td>B</td>\n",
    "    <td>C</td>\n",
    "  </tr>\n",
    "  <tr>\n",
    "    <th>Negative</th>\n",
    "    <td>D</td>\n",
    "    <td>E</td>\n",
    "    <td>F</td>\n",
    "  </tr>\n",
    "  <tr>\n",
    "    <th colspan=\"2\" style=\"border-left: none; border-bottom: none;\"></th>\n",
    "    <td>G</td>\n",
    "    <td>H</td>\n",
    "    <td>I</td>\n",
    "  </tr>\n",
    "</table>"
   ]
  },
  {
   "cell_type": "markdown",
   "metadata": {},
   "source": [
    "### 3) [1.5v] \n",
    "\n",
    "**Identify which class has the lowest training F1 score.**"
   ]
  },
  {
   "cell_type": "markdown",
   "metadata": {},
   "source": [
    "### 4) [1v] \n",
    "\n",
    "**Considering y2 to be ordinal, assess if y1 and y2 are correlated using the Spearman coefficient.**"
   ]
  },
  {
   "cell_type": "markdown",
   "metadata": {},
   "source": [
    "### 5) [1v] \n",
    "\n",
    "**Draw the class-conditional relative histograms of y1 using 5 equally spaced bins in [0,1]. Find the root split using the discriminant rules from these empirical distributions.**"
   ]
  },
  {
   "cell_type": "markdown",
   "metadata": {},
   "source": [
    "## II. Programming [9v]\n",
    "\n",
    "**Consider the `column_diagnosis.arff` data available at the homework tab, comprising 6 biomechanical features to classify 310 orthopaedic patients into 3 classes (`normal`, `disk hernia`, `spondilolysthesis`).**"
   ]
  },
  {
   "cell_type": "markdown",
   "metadata": {},
   "source": [
    "### 1) [1.5v]\n",
    "\n",
    "**Apply `f_classif` from `sklearn` to assess the discriminative power of the input variables.\n",
    "Identify the input variable with the highest and lowest discriminative power.\n",
    "Plot the class-conditional probability density functions of these two input variables.**"
   ]
  },
  {
   "cell_type": "markdown",
   "metadata": {},
   "source": [
    "### 2) [4v]\n",
    "\n",
    "**Using a stratified 70-30 training-testing split with a fixed seed (`random_state=0`), assess in a\n",
    "single plot both the training and testing accuracies of a decision tree with depth limits in\n",
    "`{1,2,3,4,5,6,8,10}` and the remaining parameters as default.**\n",
    "\n",
    "***[Optional]* Note that split thresholding of numeric variables in decision trees is non-deterministic\n",
    "in sklearn, hence you may opt to average the results using 10 runs per parameterization.**"
   ]
  },
  {
   "cell_type": "markdown",
   "metadata": {},
   "source": [
    "### 3) [1.5v]\n",
    "\n",
    "**Comment on the results, including the generalization capacity across settings.**"
   ]
  },
  {
   "cell_type": "markdown",
   "metadata": {},
   "source": [
    "### 4) [2v]\n",
    "\n",
    "**To deploy the predictor, a healthcare team opted to learn a single decision tree\n",
    "(`random_state=0`) using *all* available data as training data, and further ensuring that each leaf has\n",
    "a minimum of 20 individuals in order to avoid overfitting risks.**"
   ]
  },
  {
   "cell_type": "markdown",
   "metadata": {},
   "source": [
    "- **i. Plot the decision tree.**"
   ]
  },
  {
   "cell_type": "markdown",
   "metadata": {},
   "source": [
    "- **ii. Characterize a hernia condition by identifying the hernia-conditional associations.**"
   ]
  }
 ],
 "metadata": {
  "kernelspec": {
   "display_name": "Python 3",
   "language": "python",
   "name": "python3"
  },
  "language_info": {
   "name": "python",
   "version": "3.11.5"
  }
 },
 "nbformat": 4,
 "nbformat_minor": 2
}
