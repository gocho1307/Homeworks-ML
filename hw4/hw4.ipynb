{
 "cells": [
  {
   "cell_type": "markdown",
   "metadata": {},
   "source": [
    "# Homework IV\n",
    "\n",
    "Gonçalo Bárias (ist1103124) & Raquel Braunschweig (ist1102624)"
   ]
  },
  {
   "cell_type": "markdown",
   "metadata": {},
   "source": [
    "This Notebook mainly contains our solution for the programming and critical analysis section of the Homework (Part II). For the pen and paper section (Part I), we only include the numpy code used for the calculus. The full solution and details for Part I can be found on the pdf report."
   ]
  },
  {
   "cell_type": "markdown",
   "metadata": {},
   "source": [
    "## I. Pen and Paper [11v]"
   ]
  },
  {
   "cell_type": "markdown",
   "metadata": {},
   "source": [
    "### 1) [6v]"
   ]
  },
  {
   "cell_type": "markdown",
   "metadata": {},
   "source": [
    "## II. Programming and critical analysis [9v]\n",
    "\n",
    "**Recall the `column_diagnosis.arff` dataset from previous homeworks. For the following exercises,\n",
    "normalize the data using sklearn's `MinMaxScaler`.**"
   ]
  },
  {
   "cell_type": "markdown",
   "metadata": {},
   "source": [
    "### 1) [4v]\n",
    "\n",
    "**Using `sklearn`, apply `k`-means clustering fully unsupervisedly on the normalized data with\n",
    "k ∈ {2,3,4,5} (`random=0` and remaining parameters as default). Assess the silhouette and purity of\n",
    "the produced solutions.**"
   ]
  },
  {
   "cell_type": "markdown",
   "metadata": {},
   "source": [
    "### 2) [2v]\n",
    "\n",
    "**Consider the application of PCA after the data normalization:**"
   ]
  },
  {
   "cell_type": "markdown",
   "metadata": {},
   "source": [
    "**i. Identify the variability explained by the top two principal components.**"
   ]
  },
  {
   "cell_type": "markdown",
   "metadata": {},
   "source": [
    "**ii. For each one of these two components, sort the input variables by relevance by\n",
    "inspecting the absolute weights of the linear projection.**"
   ]
  },
  {
   "cell_type": "markdown",
   "metadata": {},
   "source": [
    "### 3) [2v]\n",
    "\n",
    "**Visualize side-by-side the data using: i) the ground diagnoses, and ii) the __previously__ learned\n",
    "k = 3 clustering solution. To this end, projected the normalized data onto a 2-dimensional data\n",
    "space using PCA and then color observations using the reference and cluster annotations.**"
   ]
  },
  {
   "cell_type": "markdown",
   "metadata": {},
   "source": [
    "### 4) [1v]\n",
    "\n",
    "**Considering the results from questions (1) and (3), identify two ways on how clustering can\n",
    "be used to characterize the population of ill and healthy individuals.**"
   ]
  }
 ],
 "metadata": {
  "kernelspec": {
   "display_name": "Python 3",
   "language": "python",
   "name": "python3"
  },
  "language_info": {
   "codemirror_mode": {
    "name": "ipython",
    "version": 3
   },
   "file_extension": ".py",
   "mimetype": "text/x-python",
   "name": "python",
   "nbconvert_exporter": "python",
   "pygments_lexer": "ipython3",
   "version": "3.11.5"
  }
 },
 "nbformat": 4,
 "nbformat_minor": 2
}
