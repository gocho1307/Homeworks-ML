{
 "cells": [
  {
   "cell_type": "markdown",
   "metadata": {},
   "source": [
    "# Homework III\n",
    "\n",
    "Gonçalo Bárias (ist1103124) & Raquel Braunschweig (ist1102624)"
   ]
  },
  {
   "cell_type": "markdown",
   "metadata": {},
   "source": [
    "This Notebook mainly contains our solution for the programming and critical analysis section of the Homework (Part II). For the pen and paper section (Part I), we only include the numpy code used for the calculus. The full solution and details for Part I can be found on the pdf report."
   ]
  },
  {
   "cell_type": "markdown",
   "metadata": {},
   "source": [
    "## I. Pen and Paper [12v]"
   ]
  },
  {
   "cell_type": "markdown",
   "metadata": {},
   "source": [
    "### 1) [6v]"
   ]
  },
  {
   "cell_type": "code",
   "execution_count": 173,
   "metadata": {},
   "outputs": [],
   "source": [
    "import numpy as np, math as mt"
   ]
  },
  {
   "cell_type": "code",
   "execution_count": 174,
   "metadata": {},
   "outputs": [],
   "source": [
    "def basis_function(x, c):\n",
    "    return mt.exp(-1 / 2 * mt.dist(x, c) ** 2)\n",
    "\n",
    "x = [[0.7, -0.3], [0.4, 0.5], [-0.2, 0.8], [-0.4, 0.3]]\n",
    "c = [[0, 0], [1, -1], [-1, 1]]\n",
    "z = [0.8, 0.6, 0.3, 0.3]\n",
    "\n",
    "phi_matrix = []\n",
    "for x_val in x:\n",
    "    phi_matrix.append([1])  # phi_0 is always 1\n",
    "    for c_j in c:\n",
    "        phi_matrix[-1].append(basis_function(x_val, c_j))"
   ]
  },
  {
   "cell_type": "code",
   "execution_count": 175,
   "metadata": {},
   "outputs": [],
   "source": [
    "phi_matrix = np.array(phi_matrix)\n",
    "phi_matrix_T = phi_matrix.transpose()\n",
    "\n",
    "a = np.matmul(phi_matrix_T, phi_matrix)\n",
    "b = np.add(a, 0.1 * np.identity(4))\n",
    "c = np.linalg.pinv(b)\n",
    "d = np.matmul(c, phi_matrix_T)\n",
    "\n",
    "w = np.matmul(d, z)"
   ]
  },
  {
   "cell_type": "code",
   "execution_count": 176,
   "metadata": {},
   "outputs": [],
   "source": [
    "z_hat = np.matmul(phi_matrix, w)\n",
    "the_sum = np.sum(np.square(np.subtract(z, z_hat)))\n",
    "RMSE = mt.sqrt(1 / 4 * the_sum)"
   ]
  },
  {
   "cell_type": "code",
   "execution_count": 177,
   "metadata": {},
   "outputs": [
    {
     "name": "stdout",
     "output_type": "stream",
     "text": [
      "*************** 1a.\n",
      "-- Phi -----------------------------------\n",
      "[[1.      0.74826 0.74826 0.10127]\n",
      " [1.      0.81465 0.27117 0.33121]\n",
      " [1.      0.71177 0.09633 0.71177]\n",
      " [1.      0.8825  0.16122 0.65377]]\n",
      "-- Phi^T ---------------------------------\n",
      "[[1.      1.      1.      1.     ]\n",
      " [0.74826 0.81465 0.71177 0.8825 ]\n",
      " [0.74826 0.27117 0.09633 0.16122]\n",
      " [0.10127 0.33121 0.71177 0.65377]]\n",
      "-- Phi^T*Phi -----------------------------\n",
      "[[4.      3.15718 1.27698 1.79802]\n",
      " [3.15718 2.50897 0.99165 1.42916]\n",
      " [1.27698 0.99165 0.6687  0.33955]\n",
      " [1.79802 1.42916 0.33955 1.05399]]\n",
      "-- Phi^T*Phi + 0.1I ----------------------\n",
      "[[4.1     3.15718 1.27698 1.79802]\n",
      " [3.15718 2.60897 0.99165 1.42916]\n",
      " [1.27698 0.99165 0.7687  0.33955]\n",
      " [1.79802 1.42916 0.33955 1.15399]]\n",
      "-- (Phi^T*Phi + 0.1I)^(-1) ---------------\n",
      "[[ 4.54826 -3.77682 -1.86117 -1.86155]\n",
      " [-3.77682  5.98285 -0.88543 -1.26432]\n",
      " [-1.86117 -0.88543  4.33276  2.72156]\n",
      " [-1.86155 -1.26432  2.72156  4.53204]]\n",
      "-- (Phi^T*Phi + 0.1I)^(-1) * Phi^T -------\n",
      "[[ 0.14105  0.35022  0.35575 -0.30185]\n",
      " [-0.09064  0.43823 -0.50361  0.5337 ]\n",
      " [ 0.99394 -0.50615 -0.1369  -0.16477]\n",
      " [-0.31222 -0.65246  0.72647  0.42436]]\n",
      "-- w -------------------------------------\n",
      "[ 0.33914  0.19945  0.40096 -0.296  ]\n",
      "\n",
      "*************** 1b.\n",
      "-- z_hat ---------------------------------\n",
      "[0.75844 0.51232 0.30905 0.38629]\n",
      "-- the_sum -------------------------------\n",
      "0.01694\n",
      "-- RMSE ----------------------------------\n",
      "0.06508\n"
     ]
    }
   ],
   "source": [
    "print(\"*************** 1a.\")\n",
    "print(\"-- Phi -----------------------------------\")\n",
    "print(np.round(phi_matrix, 5))\n",
    "print(\"-- Phi^T ---------------------------------\")\n",
    "print(np.round(phi_matrix_T, 5))\n",
    "print(\"-- Phi^T*Phi -----------------------------\")\n",
    "print(np.round(a, 5))\n",
    "print(\"-- Phi^T*Phi + 0.1I ----------------------\")\n",
    "print(np.round(b, 5))\n",
    "print(\"-- (Phi^T*Phi + 0.1I)^(-1) ---------------\")\n",
    "print(np.round(c, 5))\n",
    "print(\"-- (Phi^T*Phi + 0.1I)^(-1) * Phi^T -------\")\n",
    "print(np.round(d, 5))\n",
    "print(\"-- w -------------------------------------\")\n",
    "print(np.round(w, 5))\n",
    "\n",
    "print()\n",
    "\n",
    "print(\"*************** 1b.\")\n",
    "print(\"-- z_hat ---------------------------------\")\n",
    "print(np.round(z_hat, 5))\n",
    "print(\"-- the_sum -------------------------------\")\n",
    "print(round(the_sum, 5))\n",
    "print(\"-- RMSE ----------------------------------\")\n",
    "print(round(RMSE, 5))"
   ]
  },
  {
   "cell_type": "markdown",
   "metadata": {},
   "source": [
    "### 2) [6v]"
   ]
  },
  {
   "cell_type": "code",
   "execution_count": 178,
   "metadata": {},
   "outputs": [],
   "source": [
    "import numpy as np\n",
    "\n",
    "# Define variables\n",
    "W1 = np.array([[1, 1, 1, 1], [1, 1, 2, 1], [1, 1, 1, 1]])\n",
    "b1 = np.array([[1], [1], [1]])\n",
    "\n",
    "W2 = np.array([[1, 4, 1], [1, 1, 1]])\n",
    "b2 = np.array([[1], [1]])\n",
    "\n",
    "W3 = np.array([[1, 1], [3, 1], [1, 1]])\n",
    "b3 = np.array([[1], [1], [1]])\n",
    "\n",
    "x1 = np.array([[1], [1], [1], [1]])\n",
    "x2 = np.array([[1], [0], [0], [-1]])\n",
    "\n",
    "# Define the activation function\n",
    "def activation_function(x):\n",
    "    return np.tanh(0.5 * x - 2)"
   ]
  },
  {
   "cell_type": "code",
   "execution_count": 179,
   "metadata": {},
   "outputs": [
    {
     "name": "stdout",
     "output_type": "stream",
     "text": [
      "**Forward Pass for x1:\n",
      "z1:\n",
      "[[5]\n",
      " [6]\n",
      " [5]]\n",
      "a1:\n",
      "[[0.46212]\n",
      " [0.76159]\n",
      " [0.46212]]\n",
      "z2:\n",
      "[[4.97061]\n",
      " [2.68583]]\n",
      "a2:\n",
      "[[ 0.45048]\n",
      " [-0.57642]]\n",
      "z3:\n",
      "[[0.87406]\n",
      " [1.77503]\n",
      " [0.87406]]\n",
      "a3:\n",
      "[[-0.9159 ]\n",
      " [-0.80494]\n",
      " [-0.9159 ]]\n"
     ]
    }
   ],
   "source": [
    "# Step 1: Forward Pass\n",
    "# for x1\n",
    "z1_1 = np.dot(W1, x1) + b1\n",
    "a1_1 = activation_function(z1_1)\n",
    "\n",
    "z2_1 = np.dot(W2, a1_1) + b2\n",
    "a2_1 = activation_function(z2_1)\n",
    "\n",
    "z3_1 = np.dot(W3, a2_1) + b3\n",
    "a3_1 = activation_function(z3_1)\n",
    "\n",
    "# for x2\n",
    "z1_2 = np.dot(W1, x2) + b1\n",
    "a1_2 = activation_function(z1_2)\n",
    "\n",
    "z2_2 = np.dot(W2, a1_2) + b2\n",
    "a2_2 = activation_function(z2_2)\n",
    "\n",
    "z3_2 = np.dot(W3, a2_2) + b3\n",
    "a3_2 = activation_function(z3_2)\n",
    "\n",
    "print(\"**Forward Pass for x1:\")\n",
    "print(\"z1:\")\n",
    "print(z1_1)\n",
    "print(\"a1:\")\n",
    "print(np.round(a1_1, 5))\n",
    "print(\"z2:\")\n",
    "print(np.round(z2_1, 5))\n",
    "print(\"a2:\")\n",
    "print(np.round(a2_1, 5))\n",
    "print(\"z3:\")\n",
    "print(np.round(z3_1, 5))\n",
    "print(\"a3:\")\n",
    "print(np.round(a3_1, 5))"
   ]
  },
  {
   "cell_type": "code",
   "execution_count": 180,
   "metadata": {},
   "outputs": [
    {
     "name": "stdout",
     "output_type": "stream",
     "text": [
      "**Forward Pass for x2:\n",
      "z1:\n",
      "[[1]\n",
      " [1]\n",
      " [1]]\n",
      "a1:\n",
      "[[-0.90515]\n",
      " [-0.90515]\n",
      " [-0.90515]]\n",
      "z2:\n",
      "[[-4.43089]\n",
      " [-1.71544]]\n",
      "a2:\n",
      "[[-0.99956]\n",
      " [-0.99343]]\n",
      "z3:\n",
      "[[-0.993  ]\n",
      " [-2.99212]\n",
      " [-0.993  ]]\n",
      "a3:\n",
      "[[-0.98652]\n",
      " [-0.99816]\n",
      " [-0.98652]]\n",
      "\n"
     ]
    }
   ],
   "source": [
    "\n",
    "print(\"**Forward Pass for x2:\")\n",
    "print(\"z1:\")\n",
    "print(np.round(z1_2, 5))\n",
    "print(\"a1:\")\n",
    "print(np.round(a1_2, 5))\n",
    "print(\"z2:\")\n",
    "print(np.round(z2_2, 5))\n",
    "print(\"a2:\")\n",
    "print(np.round(a2_2, 5))\n",
    "print(\"z3:\")\n",
    "print(np.round(z3_2, 5))\n",
    "print(\"a3:\")\n",
    "print(np.round(a3_2, 5))\n",
    "print()"
   ]
  },
  {
   "cell_type": "code",
   "execution_count": 181,
   "metadata": {},
   "outputs": [
    {
     "name": "stdout",
     "output_type": "stream",
     "text": [
      "**Backpropagation for x1:\n",
      "Delta 3:\n",
      "[[ 0.00678]\n",
      " [-0.31773]\n",
      " [ 0.00678]]\n",
      "Delta 2:\n",
      "[[-0.37448]\n",
      " [-0.10156]]\n",
      "Delta 1:\n",
      "[[-0.18719]\n",
      " [-0.33587]\n",
      " [-0.18719]]\n",
      "**Backpropagation for x2:\n",
      "Delta 3:\n",
      "[[-0.0266 ]\n",
      " [ 0.     ]\n",
      " [ 0.00018]]\n",
      "Delta 2:\n",
      "[[-1.0e-05]\n",
      " [-1.7e-04]]\n",
      "Delta 1:\n",
      "[[-2.e-05]\n",
      " [-2.e-05]\n",
      " [-2.e-05]]\n",
      "\n"
     ]
    }
   ],
   "source": [
    "# Step 2: Backpropagation\n",
    "# Define the derivative function\n",
    "def derivative_function(x):\n",
    "    return np.square(1 / np.cosh(0.5 * x - 2)) * 0.5\n",
    "\n",
    "z_1 =  np.array([[-1], [1], [-1]])\n",
    "z_2 =  np.array([[1], [-1], [-1]])\n",
    "\n",
    "delta3_1 = np.multiply(a3_1 - z_1, derivative_function(z3_1))\n",
    "delta2_1 = np.multiply(np.dot(W3.T, delta3_1), derivative_function(z2_1))\n",
    "delta1_1 = np.multiply(np.dot(W2.T, delta2_1), derivative_function(z1_1))\n",
    "\n",
    "print(\"**Backpropagation for x1:\")\n",
    "print(\"Delta 3:\")\n",
    "print(np.round(delta3_1, 5))\n",
    "print(\"Delta 2:\")\n",
    "print(np.round(delta2_1, 5))\n",
    "print(\"Delta 1:\")\n",
    "print(np.round(delta1_1, 5))\n",
    "\n",
    "delta3_2 = np.multiply(a3_2 - z_2, derivative_function(z3_2))\n",
    "delta2_2 = np.multiply(np.dot(W3.T, delta3_2), derivative_function(z2_2))\n",
    "delta1_2 = np.multiply(np.dot(W2.T, delta2_2), derivative_function(z1_2))\n",
    "\n",
    "print(\"**Backpropagation for x2:\")\n",
    "print(\"Delta 3:\")\n",
    "print(np.round(delta3_2, 5))\n",
    "print(\"Delta 2:\")\n",
    "print(np.round(delta2_2, 5))\n",
    "print(\"Delta 1:\")\n",
    "print(np.round(delta1_2, 5))\n",
    "print()\n"
   ]
  },
  {
   "cell_type": "code",
   "execution_count": 182,
   "metadata": {},
   "outputs": [
    {
     "name": "stdout",
     "output_type": "stream",
     "text": [
      "3\n",
      "[[ 0.02964  0.02252]\n",
      " [-0.14314  0.18315]\n",
      " [ 0.00287 -0.00408]]\n",
      "2\n",
      "[[-0.17304 -0.28519 -0.17304]\n",
      " [-0.04678 -0.07719 -0.04678]]\n",
      "1\n",
      "[[-0.18721 -0.18719 -0.18719 -0.18717]\n",
      " [-0.33589 -0.33587 -0.33587 -0.33585]\n",
      " [-0.18721 -0.18719 -0.18719 -0.18717]]\n",
      "\n"
     ]
    }
   ],
   "source": [
    "# Caculate derivatives\n",
    "deriv_3 = np.dot(delta3_1, a2_1.T) + np.dot(delta3_2, a2_2.T)\n",
    "deriv_2 = np.dot(delta2_1, a1_1.T) + np.dot(delta2_2, a1_2.T)\n",
    "deriv_1 = np.dot(delta1_1, x1.T) + np.dot(delta1_2, x2.T)\n",
    "\n",
    "print(\"3\")\n",
    "print(np.round(deriv_3, 5))\n",
    "print(\"2\")\n",
    "print(np.round(deriv_2, 5))\n",
    "print(\"1\")\n",
    "print(np.round(deriv_1, 5))\n",
    "print()"
   ]
  },
  {
   "cell_type": "code",
   "execution_count": 183,
   "metadata": {},
   "outputs": [
    {
     "name": "stdout",
     "output_type": "stream",
     "text": [
      "For 1:\n",
      "[[1.01872 1.01872 1.01872 1.01872]\n",
      " [1.03359 1.03359 2.03359 1.03359]\n",
      " [1.01872 1.01872 1.01872 1.01872]]\n",
      "[[1.01872]\n",
      " [1.03359]\n",
      " [1.01872]]\n",
      "For 2:\n",
      "[[1.0173  4.02852 1.0173 ]\n",
      " [1.00468 1.00772 1.00468]]\n",
      "[[1.03745]\n",
      " [1.01017]]\n",
      "For 3:\n",
      "[[0.99704 0.99775]\n",
      " [3.01431 0.98169]\n",
      " [0.99971 1.00041]]\n",
      "[[1.00198]\n",
      " [1.03177]\n",
      " [0.9993 ]]\n"
     ]
    }
   ],
   "source": [
    "# Final step: calculate new weights and bias\n",
    "W1_new = W1 - 0.1 * deriv_1\n",
    "W2_new = W2 - 0.1 * deriv_2\n",
    "W3_new = W3 - 0.1 * deriv_3\n",
    "\n",
    "b1_new = b1 - 0.1 * (delta1_1 + delta1_2) \n",
    "b2_new = b2 - 0.1 * (delta2_1 + delta2_2) \n",
    "b3_new = b3 - 0.1 * (delta3_1 + delta3_2) \n",
    "\n",
    "print(\"For 1:\")\n",
    "print(np.round(W1_new, 5))\n",
    "print(np.round(b1_new, 5))\n",
    "print(\"For 2:\")\n",
    "print(np.round(W2_new, 5))\n",
    "print(np.round(b2_new, 5))\n",
    "print(\"For 3:\")\n",
    "print(np.round(W3_new, 5))\n",
    "print(np.round(b3_new, 5))"
   ]
  },
  {
   "cell_type": "markdown",
   "metadata": {},
   "source": [
    "## II. Programming and critical analysis [8v]\n",
    "\n",
    "**Consider the `winequality-red.csv` dataset (available at the webpage) where the goal is to estimate\n",
    "the quality (sensory appreciation) of a wine based on physicochemical inputs.**\n",
    "\n",
    "**Using a 80-20 training-test split with a fixed seed (`random_state=0`), you are asked to learn MLP\n",
    "regressors to answer the following questions.**\n",
    "\n",
    "**Given their stochastic behavior, average the performance of each MLP from 10 runs\n",
    "(for reproducibility consider seeding the MLPs with `random_state` ∈ {1..10}).**"
   ]
  },
  {
   "cell_type": "markdown",
   "metadata": {},
   "source": [
    "### 1) [3v]\n",
    "\n",
    "**Learn a MLP regressor with 2 hidden layers of size 10, rectifier linear unit activation\n",
    "on all nodes, and early stopping with 20% of training data set aside for validation. All\n",
    "remaining parameters (e.g., loss, batch size, regularization term, solver) should be set as\n",
    "default. Plot the distribution of the residues (in absolute value) using a histogram.**"
   ]
  },
  {
   "cell_type": "code",
   "execution_count": 184,
   "metadata": {},
   "outputs": [],
   "source": [
    "import numpy as np, pandas as pd, matplotlib.pyplot as plt\n",
    "from sklearn.neural_network import MLPRegressor\n",
    "from sklearn.model_selection import train_test_split"
   ]
  },
  {
   "cell_type": "code",
   "execution_count": 185,
   "metadata": {},
   "outputs": [],
   "source": [
    "# Step 1: Load and prepare the dataset\n",
    "data = pd.read_csv(\"./data/winequality-red.csv\", sep=\";\")\n",
    "X, y = data.drop(\"quality\", axis=1), data[\"quality\"]"
   ]
  },
  {
   "cell_type": "code",
   "execution_count": 186,
   "metadata": {},
   "outputs": [
    {
     "name": "stderr",
     "output_type": "stream",
     "text": [
      "/usr/lib/python3.11/site-packages/sklearn/neural_network/_multilayer_perceptron.py:691: ConvergenceWarning: Stochastic Optimizer: Maximum iterations (200) reached and the optimization hasn't converged yet.\n",
      "  warnings.warn(\n"
     ]
    }
   ],
   "source": [
    "# Step 2: Learn the MLP regressor\n",
    "mlp = MLPRegressor(hidden_layer_sizes=(10, 10), activation=\"relu\", early_stopping=True, \n",
    "                    validation_fraction=0.2, random_state=0)\n",
    "\n",
    "# Step 3: Split the data into training and testing sets\n",
    "X_train, X_test, y_train, y_test = train_test_split(X, y, test_size=0.2, random_state=0)\n",
    "mlp.fit(X_train, y_train)\n",
    "\n",
    "# Step 4: Collect the residues\n",
    "y_pred = mlp.predict(X_test)\n",
    "residues = np.abs(np.array(y_pred) - np.array(y_test))"
   ]
  },
  {
   "cell_type": "code",
   "execution_count": 187,
   "metadata": {},
   "outputs": [
    {
     "data": {
      "image/png": "[encoded data removed]",
      "text/plain": [
       "<Figure size 800x600 with 1 Axes>"
      ]
     },
     "metadata": {},
     "output_type": "display_data"
    }
   ],
   "source": [
    "# Step 5: Plot the distribution of the absolute residues\n",
    "plt.figure(figsize=(8, 6))\n",
    "plt.hist(residues, bins=20, color = \"#00bfc4\", edgecolor=\"black\")\n",
    "plt.xlabel(\"Absolute Residues\")\n",
    "plt.ylabel(\"Frequency\")\n",
    "plt.show()"
   ]
  },
  {
   "cell_type": "markdown",
   "metadata": {},
   "source": [
    "### 2) [1.5v]\n",
    "\n",
    "**Since we are in the presence of a\n",
    "_integer regression_ task, a recommended trick is to\n",
    "round and bound estimates. Assess the impact of these operations on the MAE of the MLP\n",
    "learnt in the previous question.**"
   ]
  },
  {
   "cell_type": "code",
   "execution_count": 188,
   "metadata": {},
   "outputs": [
    {
     "name": "stderr",
     "output_type": "stream",
     "text": [
      "/usr/lib/python3.11/site-packages/sklearn/neural_network/_multilayer_perceptron.py:691: ConvergenceWarning: Stochastic Optimizer: Maximum iterations (200) reached and the optimization hasn't converged yet.\n",
      "  warnings.warn(\n",
      "/usr/lib/python3.11/site-packages/sklearn/neural_network/_multilayer_perceptron.py:691: ConvergenceWarning: Stochastic Optimizer: Maximum iterations (200) reached and the optimization hasn't converged yet.\n",
      "  warnings.warn(\n",
      "/usr/lib/python3.11/site-packages/sklearn/neural_network/_multilayer_perceptron.py:691: ConvergenceWarning: Stochastic Optimizer: Maximum iterations (200) reached and the optimization hasn't converged yet.\n",
      "  warnings.warn(\n",
      "/usr/lib/python3.11/site-packages/sklearn/neural_network/_multilayer_perceptron.py:691: ConvergenceWarning: Stochastic Optimizer: Maximum iterations (200) reached and the optimization hasn't converged yet.\n",
      "  warnings.warn(\n",
      "/usr/lib/python3.11/site-packages/sklearn/neural_network/_multilayer_perceptron.py:691: ConvergenceWarning: Stochastic Optimizer: Maximum iterations (200) reached and the optimization hasn't converged yet.\n",
      "  warnings.warn(\n",
      "/usr/lib/python3.11/site-packages/sklearn/neural_network/_multilayer_perceptron.py:691: ConvergenceWarning: Stochastic Optimizer: Maximum iterations (200) reached and the optimization hasn't converged yet.\n",
      "  warnings.warn(\n"
     ]
    },
    {
     "name": "stdout",
     "output_type": "stream",
     "text": [
      "MAE with rounded predictions: 0.43125\n",
      "MAE with bounded predictions: 0.4937438468885914\n"
     ]
    },
    {
     "name": "stderr",
     "output_type": "stream",
     "text": [
      "/usr/lib/python3.11/site-packages/sklearn/neural_network/_multilayer_perceptron.py:691: ConvergenceWarning: Stochastic Optimizer: Maximum iterations (200) reached and the optimization hasn't converged yet.\n",
      "  warnings.warn(\n"
     ]
    }
   ],
   "source": [
    "import numpy as np, pandas as pd\n",
    "from sklearn.neural_network import MLPRegressor\n",
    "from sklearn.metrics import mean_absolute_error\n",
    "from sklearn.model_selection import train_test_split\n",
    "\n",
    "# Step 1: Train the MLP regressor, just like in the previous exercise\n",
    "data = pd.read_csv(\"./data/winequality-red.csv\", sep=\";\")\n",
    "X, y = data.drop(\"quality\", axis=1), data[\"quality\"]\n",
    "X_train, X_test, y_train, y_test = train_test_split(X, y, test_size=0.2, random_state=0)\n",
    "\n",
    "y_preds = []\n",
    "for i in range(1,11):\n",
    "    # Train the MLP regressor with a specific number of iterations\n",
    "    mlp = MLPRegressor(hidden_layer_sizes=(10, 10), activation='relu', early_stopping=True, \n",
    "                        validation_fraction=0.2, random_state=i)\n",
    "    mlp.fit(X_train, y_train)\n",
    "    \n",
    "    # Predict the target values on the test set\n",
    "    y_preds.append(mlp.predict(X_test))\n",
    "\n",
    "# Step 2: Apply rounding and bounding operations\n",
    "y_pred = np.mean(y_preds, axis=0)\n",
    "y_pred_rounded = np.round(y_pred)        # Round the predictions\n",
    "y_pred_bounded = np.clip(y_pred, 1, 10)  # Bound the predictions between 1 and 10\n",
    "\n",
    "# Step 3: Calculate MAE for both rounded and bounded predictions\n",
    "mae_rounded = mean_absolute_error(y_test, y_pred_rounded)\n",
    "mae_bounded = mean_absolute_error(y_test, y_pred_bounded)\n",
    "\n",
    "# Print the MAE for both cases\n",
    "print(f'MAE with rounded predictions: {mae_rounded}')\n",
    "print(f'MAE with bounded predictions: {mae_bounded}')"
   ]
  },
  {
   "cell_type": "markdown",
   "metadata": {},
   "source": [
    "Blah"
   ]
  },
  {
   "cell_type": "markdown",
   "metadata": {},
   "source": [
    "### 3) [1.5v]\n",
    "\n",
    "**Similarly assess the impact on RMSE from replacing early stopping by a well-defined\n",
    "number of iterations in {20,50,100,200} (where one iteration corresponds to a batch).**"
   ]
  },
  {
   "cell_type": "code",
   "execution_count": 189,
   "metadata": {},
   "outputs": [
    {
     "name": "stderr",
     "output_type": "stream",
     "text": [
      "/usr/lib/python3.11/site-packages/sklearn/neural_network/_multilayer_perceptron.py:691: ConvergenceWarning: Stochastic Optimizer: Maximum iterations (20) reached and the optimization hasn't converged yet.\n",
      "  warnings.warn(\n",
      "/usr/lib/python3.11/site-packages/sklearn/neural_network/_multilayer_perceptron.py:691: ConvergenceWarning: Stochastic Optimizer: Maximum iterations (20) reached and the optimization hasn't converged yet.\n",
      "  warnings.warn(\n",
      "/usr/lib/python3.11/site-packages/sklearn/neural_network/_multilayer_perceptron.py:691: ConvergenceWarning: Stochastic Optimizer: Maximum iterations (20) reached and the optimization hasn't converged yet.\n",
      "  warnings.warn(\n",
      "/usr/lib/python3.11/site-packages/sklearn/neural_network/_multilayer_perceptron.py:691: ConvergenceWarning: Stochastic Optimizer: Maximum iterations (20) reached and the optimization hasn't converged yet.\n",
      "  warnings.warn(\n",
      "/usr/lib/python3.11/site-packages/sklearn/neural_network/_multilayer_perceptron.py:691: ConvergenceWarning: Stochastic Optimizer: Maximum iterations (20) reached and the optimization hasn't converged yet.\n",
      "  warnings.warn(\n",
      "/usr/lib/python3.11/site-packages/sklearn/neural_network/_multilayer_perceptron.py:691: ConvergenceWarning: Stochastic Optimizer: Maximum iterations (20) reached and the optimization hasn't converged yet.\n",
      "  warnings.warn(\n",
      "/usr/lib/python3.11/site-packages/sklearn/neural_network/_multilayer_perceptron.py:691: ConvergenceWarning: Stochastic Optimizer: Maximum iterations (20) reached and the optimization hasn't converged yet.\n",
      "  warnings.warn(\n",
      "/usr/lib/python3.11/site-packages/sklearn/neural_network/_multilayer_perceptron.py:691: ConvergenceWarning: Stochastic Optimizer: Maximum iterations (20) reached and the optimization hasn't converged yet.\n",
      "  warnings.warn(\n",
      "/usr/lib/python3.11/site-packages/sklearn/neural_network/_multilayer_perceptron.py:691: ConvergenceWarning: Stochastic Optimizer: Maximum iterations (20) reached and the optimization hasn't converged yet.\n",
      "  warnings.warn(\n",
      "/usr/lib/python3.11/site-packages/sklearn/neural_network/_multilayer_perceptron.py:691: ConvergenceWarning: Stochastic Optimizer: Maximum iterations (20) reached and the optimization hasn't converged yet.\n",
      "  warnings.warn(\n",
      "/usr/lib/python3.11/site-packages/sklearn/neural_network/_multilayer_perceptron.py:691: ConvergenceWarning: Stochastic Optimizer: Maximum iterations (50) reached and the optimization hasn't converged yet.\n",
      "  warnings.warn(\n",
      "/usr/lib/python3.11/site-packages/sklearn/neural_network/_multilayer_perceptron.py:691: ConvergenceWarning: Stochastic Optimizer: Maximum iterations (50) reached and the optimization hasn't converged yet.\n",
      "  warnings.warn(\n",
      "/usr/lib/python3.11/site-packages/sklearn/neural_network/_multilayer_perceptron.py:691: ConvergenceWarning: Stochastic Optimizer: Maximum iterations (50) reached and the optimization hasn't converged yet.\n",
      "  warnings.warn(\n",
      "/usr/lib/python3.11/site-packages/sklearn/neural_network/_multilayer_perceptron.py:691: ConvergenceWarning: Stochastic Optimizer: Maximum iterations (50) reached and the optimization hasn't converged yet.\n",
      "  warnings.warn(\n",
      "/usr/lib/python3.11/site-packages/sklearn/neural_network/_multilayer_perceptron.py:691: ConvergenceWarning: Stochastic Optimizer: Maximum iterations (50) reached and the optimization hasn't converged yet.\n",
      "  warnings.warn(\n",
      "/usr/lib/python3.11/site-packages/sklearn/neural_network/_multilayer_perceptron.py:691: ConvergenceWarning: Stochastic Optimizer: Maximum iterations (50) reached and the optimization hasn't converged yet.\n",
      "  warnings.warn(\n",
      "/usr/lib/python3.11/site-packages/sklearn/neural_network/_multilayer_perceptron.py:691: ConvergenceWarning: Stochastic Optimizer: Maximum iterations (50) reached and the optimization hasn't converged yet.\n",
      "  warnings.warn(\n",
      "/usr/lib/python3.11/site-packages/sklearn/neural_network/_multilayer_perceptron.py:691: ConvergenceWarning: Stochastic Optimizer: Maximum iterations (50) reached and the optimization hasn't converged yet.\n",
      "  warnings.warn(\n",
      "/usr/lib/python3.11/site-packages/sklearn/neural_network/_multilayer_perceptron.py:691: ConvergenceWarning: Stochastic Optimizer: Maximum iterations (50) reached and the optimization hasn't converged yet.\n",
      "  warnings.warn(\n",
      "/usr/lib/python3.11/site-packages/sklearn/neural_network/_multilayer_perceptron.py:691: ConvergenceWarning: Stochastic Optimizer: Maximum iterations (50) reached and the optimization hasn't converged yet.\n",
      "  warnings.warn(\n",
      "/usr/lib/python3.11/site-packages/sklearn/neural_network/_multilayer_perceptron.py:691: ConvergenceWarning: Stochastic Optimizer: Maximum iterations (100) reached and the optimization hasn't converged yet.\n",
      "  warnings.warn(\n",
      "/usr/lib/python3.11/site-packages/sklearn/neural_network/_multilayer_perceptron.py:691: ConvergenceWarning: Stochastic Optimizer: Maximum iterations (100) reached and the optimization hasn't converged yet.\n",
      "  warnings.warn(\n",
      "/usr/lib/python3.11/site-packages/sklearn/neural_network/_multilayer_perceptron.py:691: ConvergenceWarning: Stochastic Optimizer: Maximum iterations (100) reached and the optimization hasn't converged yet.\n",
      "  warnings.warn(\n",
      "/usr/lib/python3.11/site-packages/sklearn/neural_network/_multilayer_perceptron.py:691: ConvergenceWarning: Stochastic Optimizer: Maximum iterations (100) reached and the optimization hasn't converged yet.\n",
      "  warnings.warn(\n",
      "/usr/lib/python3.11/site-packages/sklearn/neural_network/_multilayer_perceptron.py:691: ConvergenceWarning: Stochastic Optimizer: Maximum iterations (100) reached and the optimization hasn't converged yet.\n",
      "  warnings.warn(\n",
      "/usr/lib/python3.11/site-packages/sklearn/neural_network/_multilayer_perceptron.py:691: ConvergenceWarning: Stochastic Optimizer: Maximum iterations (100) reached and the optimization hasn't converged yet.\n",
      "  warnings.warn(\n",
      "/usr/lib/python3.11/site-packages/sklearn/neural_network/_multilayer_perceptron.py:691: ConvergenceWarning: Stochastic Optimizer: Maximum iterations (100) reached and the optimization hasn't converged yet.\n",
      "  warnings.warn(\n",
      "/usr/lib/python3.11/site-packages/sklearn/neural_network/_multilayer_perceptron.py:691: ConvergenceWarning: Stochastic Optimizer: Maximum iterations (100) reached and the optimization hasn't converged yet.\n",
      "  warnings.warn(\n",
      "/usr/lib/python3.11/site-packages/sklearn/neural_network/_multilayer_perceptron.py:691: ConvergenceWarning: Stochastic Optimizer: Maximum iterations (100) reached and the optimization hasn't converged yet.\n",
      "  warnings.warn(\n",
      "/usr/lib/python3.11/site-packages/sklearn/neural_network/_multilayer_perceptron.py:691: ConvergenceWarning: Stochastic Optimizer: Maximum iterations (100) reached and the optimization hasn't converged yet.\n",
      "  warnings.warn(\n",
      "/usr/lib/python3.11/site-packages/sklearn/neural_network/_multilayer_perceptron.py:691: ConvergenceWarning: Stochastic Optimizer: Maximum iterations (200) reached and the optimization hasn't converged yet.\n",
      "  warnings.warn(\n",
      "/usr/lib/python3.11/site-packages/sklearn/neural_network/_multilayer_perceptron.py:691: ConvergenceWarning: Stochastic Optimizer: Maximum iterations (200) reached and the optimization hasn't converged yet.\n",
      "  warnings.warn(\n",
      "/usr/lib/python3.11/site-packages/sklearn/neural_network/_multilayer_perceptron.py:691: ConvergenceWarning: Stochastic Optimizer: Maximum iterations (200) reached and the optimization hasn't converged yet.\n",
      "  warnings.warn(\n",
      "/usr/lib/python3.11/site-packages/sklearn/neural_network/_multilayer_perceptron.py:691: ConvergenceWarning: Stochastic Optimizer: Maximum iterations (200) reached and the optimization hasn't converged yet.\n",
      "  warnings.warn(\n",
      "/usr/lib/python3.11/site-packages/sklearn/neural_network/_multilayer_perceptron.py:691: ConvergenceWarning: Stochastic Optimizer: Maximum iterations (200) reached and the optimization hasn't converged yet.\n",
      "  warnings.warn(\n",
      "/usr/lib/python3.11/site-packages/sklearn/neural_network/_multilayer_perceptron.py:691: ConvergenceWarning: Stochastic Optimizer: Maximum iterations (200) reached and the optimization hasn't converged yet.\n",
      "  warnings.warn(\n",
      "/usr/lib/python3.11/site-packages/sklearn/neural_network/_multilayer_perceptron.py:691: ConvergenceWarning: Stochastic Optimizer: Maximum iterations (200) reached and the optimization hasn't converged yet.\n",
      "  warnings.warn(\n",
      "/usr/lib/python3.11/site-packages/sklearn/neural_network/_multilayer_perceptron.py:691: ConvergenceWarning: Stochastic Optimizer: Maximum iterations (200) reached and the optimization hasn't converged yet.\n",
      "  warnings.warn(\n"
     ]
    },
    {
     "name": "stdout",
     "output_type": "stream",
     "text": [
      "RMSE with 20 iterations: 1.0336201651006487\n",
      "RMSE with 50 iterations: 0.7060815422297181\n",
      "RMSE with 100 iterations: 0.6641845695241441\n",
      "RMSE with 200 iterations: 0.6393054830316605\n"
     ]
    },
    {
     "name": "stderr",
     "output_type": "stream",
     "text": [
      "/usr/lib/python3.11/site-packages/sklearn/neural_network/_multilayer_perceptron.py:691: ConvergenceWarning: Stochastic Optimizer: Maximum iterations (200) reached and the optimization hasn't converged yet.\n",
      "  warnings.warn(\n"
     ]
    }
   ],
   "source": [
    "import numpy as np, pandas as pd\n",
    "from sklearn.neural_network import MLPRegressor\n",
    "from sklearn.metrics import mean_squared_error\n",
    "from sklearn.model_selection import train_test_split\n",
    "\n",
    "# Train the MLP regressor, just like in the previous exercise\n",
    "data = pd.read_csv(\"./data/winequality-red.csv\", sep=\";\")\n",
    "X, y = data.drop(\"quality\", axis=1), data[\"quality\"]\n",
    "X_train, X_test, y_train, y_test = train_test_split(X, y, test_size=0.2, random_state=0)\n",
    "\n",
    "num_iterations, rmse_scores = [20, 50, 100, 200], []\n",
    "for num_iter in num_iterations:\n",
    "    y_preds = []\n",
    "    for i in range(1,11):\n",
    "        # Train the MLP regressor with a specific number of iterations\n",
    "        mlp = MLPRegressor(hidden_layer_sizes=(10, 10), activation='relu', max_iter=num_iter,\n",
    "                            validation_fraction=0.2, random_state=i)\n",
    "        mlp.fit(X_train, y_train)\n",
    "        \n",
    "        # Predict the target values on the test set\n",
    "        y_preds.append(mlp.predict(X_test))\n",
    "    \n",
    "    # Calculate RMSE\n",
    "    y_pred = np.mean(y_preds, axis=0)\n",
    "    rmse_scores.append(mean_squared_error(y_test, y_pred, squared=False))\n",
    "\n",
    "# Print the RMSE for the different numbers of iterations\n",
    "for i, num_iter in enumerate(num_iterations):\n",
    "    print(f'RMSE with {num_iter} iterations: {rmse_scores[i]}')\n"
   ]
  },
  {
   "cell_type": "markdown",
   "metadata": {},
   "source": [
    "### 4) [1.5v]\n",
    "\n",
    "**Critically comment the results obtained in previous question, hypothesizing at least\n",
    "one reason why early stopping favors and/or worsens performance.**"
   ]
  },
  {
   "cell_type": "markdown",
   "metadata": {},
   "source": [
    "Blah"
   ]
  }
 ],
 "metadata": {
  "kernelspec": {
   "display_name": "Python 3",
   "language": "python",
   "name": "python3"
  },
  "language_info": {
   "codemirror_mode": {
    "name": "ipython",
    "version": 3
   },
   "file_extension": ".py",
   "mimetype": "text/x-python",
   "name": "python",
   "nbconvert_exporter": "python",
   "pygments_lexer": "ipython3",
   "version": "3.11.5"
  }
 },
 "nbformat": 4,
 "nbformat_minor": 2
}
